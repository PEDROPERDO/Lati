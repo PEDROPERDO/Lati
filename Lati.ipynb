{
  "nbformat": 4,
  "nbformat_minor": 0,
  "metadata": {
    "colab": {
      "provenance": []
    },
    "kernelspec": {
      "name": "python3",
      "display_name": "Python 3"
    },
    "language_info": {
      "name": "python"
    }
  },
  "cells": [
    {
      "cell_type": "code",
      "execution_count": null,
      "metadata": {
        "id": "Db4mybGWBpem"
      },
      "outputs": [],
      "source": [
        "!pip install stopwords\n",
        "\n",
        "import stopwords\n",
        "\n",
        "import tensorflow as tf\n",
        "\n",
        "import tensorflow_datasets as tfds\n",
        "\n",
        "tfds.disable_progress_bar()"
      ]
    },
    {
      "cell_type": "code",
      "source": [
        "train, test = tfds.load(\"imdb_reviews\", split=[\"train\", \"test\"], as_supervised=True)"
      ],
      "metadata": {
        "id": "57xZ6MccCP6B"
      },
      "execution_count": null,
      "outputs": []
    },
    {
      "cell_type": "code",
      "source": [
        "unlist = stopwords.get_stopwords(\"english\")\n",
        "\n",
        "type(unlist)"
      ],
      "metadata": {
        "colab": {
          "base_uri": "https://localhost:8080/"
        },
        "id": "WfXgIJjKCUyA",
        "outputId": "cc4acec4-dade-4b4f-e576-e6a5d1472ca2"
      },
      "execution_count": 3,
      "outputs": [
        {
          "output_type": "execute_result",
          "data": {
            "text/plain": [
              "list"
            ]
          },
          "metadata": {},
          "execution_count": 3
        }
      ]
    },
    {
      "cell_type": "code",
      "source": [
        "train_input = []; train_label = []\n",
        "\n",
        "test_input = []; test_label = []\n",
        "\n",
        "retori = lambda snt : [i for i in snt.lower().split() if i not in unlist]\n",
        "\n",
        "for data, label in train:\n",
        "  retari = \" \".join(retori(data.numpy().decode(\"utf8\")))\n",
        "  train_input.append(retari)\n",
        "  train_label.append(label.numpy())\n",
        "\n",
        "for data, label in test:\n",
        "  retari = \" \".join(retori(data.numpy().decode(\"utf8\")))\n",
        "  test_input.append(retari)\n",
        "  test_label.append(label.numpy())"
      ],
      "metadata": {
        "id": "qRnpWcvkDI7d"
      },
      "execution_count": 4,
      "outputs": []
    },
    {
      "cell_type": "code",
      "source": [
        "len(train_input), len(test_input), len(train_label), len(test_label)"
      ],
      "metadata": {
        "colab": {
          "base_uri": "https://localhost:8080/"
        },
        "id": "A9UVOml1DLlq",
        "outputId": "55151279-9d22-431e-a16a-9eb13cb9792e"
      },
      "execution_count": 5,
      "outputs": [
        {
          "output_type": "execute_result",
          "data": {
            "text/plain": [
              "(25000, 25000, 25000, 25000)"
            ]
          },
          "metadata": {},
          "execution_count": 5
        }
      ]
    },
    {
      "cell_type": "code",
      "source": [
        "import tensorflow.keras.layers as layers\n",
        "\n",
        "vector = layers.TextVectorization(max_tokens=10)\n",
        "\n",
        "sample = [\"aku suka ikan\", \"ikan goreng\", \"ibu masak ikan\", \"bapak masak ayam bersama ibu\"]\n",
        "\n",
        "vector.adapt(sample)"
      ],
      "metadata": {
        "id": "nO54BYqzDk3H"
      },
      "execution_count": 6,
      "outputs": []
    },
    {
      "cell_type": "code",
      "source": [
        "vector.get_vocabulary()[:5]"
      ],
      "metadata": {
        "colab": {
          "base_uri": "https://localhost:8080/"
        },
        "id": "9lqG1_NiENHl",
        "outputId": "75c7130c-e613-4e99-ce3e-ec0cde7134ec"
      },
      "execution_count": 7,
      "outputs": [
        {
          "output_type": "execute_result",
          "data": {
            "text/plain": [
              "['', '[UNK]', 'ikan', 'masak', 'ibu']"
            ]
          },
          "metadata": {},
          "execution_count": 7
        }
      ]
    },
    {
      "cell_type": "code",
      "source": [
        "vector.get_vocabulary()[5:]"
      ],
      "metadata": {
        "colab": {
          "base_uri": "https://localhost:8080/"
        },
        "id": "XJi2sUaGEgUF",
        "outputId": "35e6f7f4-5fc1-433c-8981-8333afbf7ef5"
      },
      "execution_count": 8,
      "outputs": [
        {
          "output_type": "execute_result",
          "data": {
            "text/plain": [
              "['suka', 'goreng', 'bersama', 'bapak', 'ayam']"
            ]
          },
          "metadata": {},
          "execution_count": 8
        }
      ]
    },
    {
      "cell_type": "code",
      "source": [
        "vector.get_vocabulary()[1]"
      ],
      "metadata": {
        "colab": {
          "base_uri": "https://localhost:8080/",
          "height": 35
        },
        "id": "EvBYz_ZzE4tQ",
        "outputId": "6a44b3c0-44c7-4ca5-b48d-944aee2ce8f6"
      },
      "execution_count": 9,
      "outputs": [
        {
          "output_type": "execute_result",
          "data": {
            "text/plain": [
              "'[UNK]'"
            ],
            "application/vnd.google.colaboratory.intrinsic+json": {
              "type": "string"
            }
          },
          "metadata": {},
          "execution_count": 9
        }
      ]
    },
    {
      "cell_type": "code",
      "source": [
        "samplet = [\"ikan masak ibu tadi\"]\n",
        "\n",
        "vector(samplet).numpy()"
      ],
      "metadata": {
        "colab": {
          "base_uri": "https://localhost:8080/"
        },
        "id": "Ef-chS6nE6x_",
        "outputId": "ce7e61fa-7db2-4258-9b8e-8121263c79d2"
      },
      "execution_count": 10,
      "outputs": [
        {
          "output_type": "execute_result",
          "data": {
            "text/plain": [
              "array([[2, 3, 4, 1]])"
            ]
          },
          "metadata": {},
          "execution_count": 10
        }
      ]
    },
    {
      "cell_type": "code",
      "source": [
        "vector.get_vocabulary(include_special_tokens=False)"
      ],
      "metadata": {
        "colab": {
          "base_uri": "https://localhost:8080/"
        },
        "id": "Mxc5zkvYE9XV",
        "outputId": "0223209a-3722-4996-ca34-bee95cb74d5f"
      },
      "execution_count": 11,
      "outputs": [
        {
          "output_type": "execute_result",
          "data": {
            "text/plain": [
              "['ikan', 'masak', 'ibu', 'suka', 'goreng', 'bersama', 'bapak', 'ayam']"
            ]
          },
          "metadata": {},
          "execution_count": 11
        }
      ]
    },
    {
      "cell_type": "code",
      "source": [
        "len(vector.get_vocabulary())"
      ],
      "metadata": {
        "colab": {
          "base_uri": "https://localhost:8080/"
        },
        "id": "nZCVDDBgE_H5",
        "outputId": "55ff4cd7-320d-41a9-a0f2-6498b136e93f"
      },
      "execution_count": 12,
      "outputs": [
        {
          "output_type": "execute_result",
          "data": {
            "text/plain": [
              "10"
            ]
          },
          "metadata": {},
          "execution_count": 12
        }
      ]
    },
    {
      "cell_type": "code",
      "source": [
        "max_tokens = 15000\n",
        "\n",
        "embedding = 16\n",
        "\n",
        "output_sequence_length = 180\n",
        "\n",
        "tokener = layers.TextVectorization(\n",
        "  max_tokens=max_tokens, output_mode=\"int\",\n",
        "  pad_to_max_tokens=True,\n",
        "  output_sequence_length=output_sequence_length)\n",
        "\n",
        "tokener.adapt(train_input)"
      ],
      "metadata": {
        "id": "K_OMc31OFBFI"
      },
      "execution_count": 13,
      "outputs": []
    },
    {
      "cell_type": "code",
      "source": [
        "len(tokener.get_vocabulary())"
      ],
      "metadata": {
        "colab": {
          "base_uri": "https://localhost:8080/"
        },
        "id": "1G2EgdokFFiA",
        "outputId": "5d8bfbc7-1b59-46cb-d43a-c85e053011cc"
      },
      "execution_count": 14,
      "outputs": [
        {
          "output_type": "execute_result",
          "data": {
            "text/plain": [
              "15000"
            ]
          },
          "metadata": {},
          "execution_count": 14
        }
      ]
    },
    {
      "cell_type": "code",
      "source": [
        "import numpy as np\n",
        "\n",
        "train_input = np.array(tokener(train_input))\n",
        "\n",
        "train_label = np.array(train_label)"
      ],
      "metadata": {
        "id": "uTsPLA7XFHzT"
      },
      "execution_count": 15,
      "outputs": []
    },
    {
      "cell_type": "code",
      "source": [
        "len(train_input), len(train_label)"
      ],
      "metadata": {
        "colab": {
          "base_uri": "https://localhost:8080/"
        },
        "id": "d2HIbSXqFJ4O",
        "outputId": "d0111432-a513-4fb5-e0ac-8eb3f64edd7a"
      },
      "execution_count": 16,
      "outputs": [
        {
          "output_type": "execute_result",
          "data": {
            "text/plain": [
              "(25000, 25000)"
            ]
          },
          "metadata": {},
          "execution_count": 16
        }
      ]
    },
    {
      "cell_type": "code",
      "source": [
        "train_input[0][:5]"
      ],
      "metadata": {
        "colab": {
          "base_uri": "https://localhost:8080/"
        },
        "id": "uyOLVJ6VFNhV",
        "outputId": "f8634181-430f-48f1-b201-07f69fe053ee"
      },
      "execution_count": 17,
      "outputs": [
        {
          "output_type": "execute_result",
          "data": {
            "text/plain": [
              "array([  318,   292,     3, 10671,  1244])"
            ]
          },
          "metadata": {},
          "execution_count": 17
        }
      ]
    },
    {
      "cell_type": "code",
      "source": [
        "test_input = np.array(tokener(test_input))\n",
        "\n",
        "test_label = np.array(test_label)"
      ],
      "metadata": {
        "id": "Cck5XLHiFPEP"
      },
      "execution_count": 18,
      "outputs": []
    },
    {
      "cell_type": "code",
      "source": [
        "inputs = tf.keras.layers.Input(shape=(output_sequence_length,))\n",
        "\n",
        "embedding = tf.keras.layers.Embedding(max_tokens,embedding)(inputs)\n",
        "\n",
        "droupout = tf.keras.layers.Dropout(0.2)(embedding)\n",
        "\n",
        "pooling = tf.keras.layers.GlobalAveragePooling1D()(droupout)\n",
        "\n",
        "droupout = tf.keras.layers.Dropout(0.2)(pooling)\n",
        "\n",
        "output = tf.keras.layers.Dense(1, activation='sigmoid')(droupout)\n",
        "\n",
        "model = tf.keras.Model(inputs=inputs, outputs=output)"
      ],
      "metadata": {
        "id": "8DyStBadFRt7"
      },
      "execution_count": 19,
      "outputs": []
    },
    {
      "cell_type": "code",
      "source": [
        "model.compile(optimizer=\"adam\", loss=\"binary_crossentropy\", metrics=[\"accuracy\"])"
      ],
      "metadata": {
        "id": "kwWd3b4lFW4Q"
      },
      "execution_count": 20,
      "outputs": []
    },
    {
      "cell_type": "code",
      "source": [
        "plot = model.fit(train_input, train_label, epochs=10, validation_data=(test_input, test_label))"
      ],
      "metadata": {
        "id": "UokyPwCG9Nvk"
      },
      "execution_count": null,
      "outputs": []
    },
    {
      "cell_type": "code",
      "source": [
        "model.evaluate(train_input, train_label, verbose=0)"
      ],
      "metadata": {
        "id": "Q-St6Wq79pWe",
        "outputId": "88ee018e-8159-4592-8381-0db56d9aefe0",
        "colab": {
          "base_uri": "https://localhost:8080/"
        }
      },
      "execution_count": 22,
      "outputs": [
        {
          "output_type": "execute_result",
          "data": {
            "text/plain": [
              "[0.1617421805858612, 0.9460399746894836]"
            ]
          },
          "metadata": {},
          "execution_count": 22
        }
      ]
    },
    {
      "cell_type": "code",
      "source": [
        "model.evaluate(test_input, test_label, verbose=0)"
      ],
      "metadata": {
        "id": "5UOgiZ2U9rAD",
        "outputId": "fdf7139a-e598-4621-ac33-3cb402f256ff",
        "colab": {
          "base_uri": "https://localhost:8080/"
        }
      },
      "execution_count": 23,
      "outputs": [
        {
          "output_type": "execute_result",
          "data": {
            "text/plain": [
              "[0.3069874346256256, 0.8759599924087524]"
            ]
          },
          "metadata": {},
          "execution_count": 23
        }
      ]
    },
    {
      "cell_type": "code",
      "source": [
        "import Helplot, os\n",
        "\n",
        "plot = Helplot.Helplot(plot)"
      ],
      "metadata": {
        "id": "9UCjVqR79tQ_"
      },
      "execution_count": 24,
      "outputs": []
    },
    {
      "cell_type": "code",
      "source": [
        "plot.trainplot"
      ],
      "metadata": {
        "id": "MPuPKAbM9yRP",
        "outputId": "dffcb319-9188-4145-92e4-0ad696960c12",
        "colab": {
          "base_uri": "https://localhost:8080/",
          "height": 512
        }
      },
      "execution_count": 25,
      "outputs": [
        {
          "output_type": "display_data",
          "data": {
            "text/plain": [
              "<Figure size 1000x500 with 2 Axes>"
            ],
            "image/png": "[encoded data removed]"
          },
          "metadata": {}
        }
      ]
    },
    {
      "cell_type": "code",
      "source": [
        "plot.testiplot"
      ],
      "metadata": {
        "id": "avPMytcF9ytn",
        "outputId": "f7e2daf3-65dd-4213-f9d4-371f47aff9b7",
        "colab": {
          "base_uri": "https://localhost:8080/",
          "height": 512
        }
      },
      "execution_count": 26,
      "outputs": [
        {
          "output_type": "display_data",
          "data": {
            "text/plain": [
              "<Figure size 1000x500 with 2 Axes>"
            ],
            "image/png": "[encoded data removed]"
          },
          "metadata": {}
        }
      ]
    },
    {
      "cell_type": "code",
      "source": [
        "import os\n",
        "\n",
        "model.save(\"/content/model.h5\")"
      ],
      "metadata": {
        "id": "OfDE8mxc91vK"
      },
      "execution_count": null,
      "outputs": []
    },
    {
      "cell_type": "code",
      "source": [
        "!pip install apache_beam[gcp] --quiet\n",
        "\n",
        "import warnings\n",
        "\n",
        "import apache_beam as beam\n",
        "\n",
        "warnings.filterwarnings(\"ignore\")"
      ],
      "metadata": {
        "id": "6T2estcZ93uM"
      },
      "execution_count": null,
      "outputs": []
    },
    {
      "cell_type": "code",
      "source": [
        "from apache_beam.ml.inference.tensorflow_inference import TFModelHandlerTensor\n",
        "\n",
        "from apache_beam.ml.inference.base import RunInference\n",
        "\n",
        "tensor = TFModelHandlerTensor(\"/content/model.h5\", compile=False)"
      ],
      "metadata": {
        "id": "bllR3ZWg-jmi"
      },
      "execution_count": 29,
      "outputs": []
    },
    {
      "cell_type": "code",
      "source": [
        "trainer = train_input[:10]\n",
        "\n",
        "len(trainer)"
      ],
      "metadata": {
        "id": "uVKMNUF8-mSM",
        "outputId": "5556b77b-100b-4ec7-da43-c20d00412065",
        "colab": {
          "base_uri": "https://localhost:8080/"
        }
      },
      "execution_count": 30,
      "outputs": [
        {
          "output_type": "execute_result",
          "data": {
            "text/plain": [
              "10"
            ]
          },
          "metadata": {},
          "execution_count": 30
        }
      ]
    },
    {
      "cell_type": "code",
      "source": [
        "labeler = lambda result : result.inference.numpy()[0].round()"
      ],
      "metadata": {
        "id": "B6JwwWIq-orz"
      },
      "execution_count": 31,
      "outputs": []
    },
    {
      "cell_type": "code",
      "source": [
        "with beam.Pipeline() as pipeline:\n",
        "  runner = (\n",
        "    pipeline\n",
        "    | 'Create' >> beam.Create(trainer)\n",
        "    | 'RunInference' >> RunInference(tensor)\n",
        "    | 'Outer' >> beam.Map(labeler)\n",
        "    | 'Unlist' >> beam.combiners.ToList()\n",
        "    | 'Output' >> beam.io.WriteToText(\"/content/result.txt\")\n",
        "  )"
      ],
      "metadata": {
        "id": "GdwJVw1xQFdU"
      },
      "execution_count": null,
      "outputs": []
    },
    {
      "cell_type": "code",
      "source": [
        "!cat /content/result.txt-00000-of-00001"
      ],
      "metadata": {
        "colab": {
          "base_uri": "https://localhost:8080/"
        },
        "id": "BHwKcpH8TYoj",
        "outputId": "33a1907b-eb7c-4238-b777-5878ea13f6ac"
      },
      "execution_count": 33,
      "outputs": [
        {
          "output_type": "stream",
          "name": "stdout",
          "text": [
            "[0.0, 0.0, 1.0, 1.0, 1.0, 1.0, 0.0, 1.0, 0.0, 0.0]\n"
          ]
        }
      ]
    }
  ]
}